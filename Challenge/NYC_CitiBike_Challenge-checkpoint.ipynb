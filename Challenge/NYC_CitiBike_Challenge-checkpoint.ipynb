{
 "cells": [
  {
   "cell_type": "code",
   "execution_count": 1,
   "metadata": {},
   "outputs": [],
   "source": [
    "# important Dependencies\n",
    "import feather\n",
    "import pandas as pd\n",
    "import numpy as np\n",
    "import os  # Add Indirect Path to file (not needed in Direct Path)"
   ]
  },
  {
   "cell_type": "code",
   "execution_count": 2,
   "metadata": {},
   "outputs": [],
   "source": [
    "# csv files to loaded from a resources folder using indirect path\n",
    "citibike_data_to_load = os.path.join(\"Datasources\", \"201908-citibike-tripdata.csv\")"
   ]
  },
  {
   "cell_type": "code",
   "execution_count": 3,
   "metadata": {},
   "outputs": [
    {
     "data": {
      "text/html": [
       "<div>\n",
       "<style scoped>\n",
       "    .dataframe tbody tr th:only-of-type {\n",
       "        vertical-align: middle;\n",
       "    }\n",
       "\n",
       "    .dataframe tbody tr th {\n",
       "        vertical-align: top;\n",
       "    }\n",
       "\n",
       "    .dataframe thead th {\n",
       "        text-align: right;\n",
       "    }\n",
       "</style>\n",
       "<table border=\"1\" class=\"dataframe\">\n",
       "  <thead>\n",
       "    <tr style=\"text-align: right;\">\n",
       "      <th></th>\n",
       "      <th>tripduration</th>\n",
       "      <th>starttime</th>\n",
       "      <th>stoptime</th>\n",
       "      <th>start station id</th>\n",
       "      <th>start station name</th>\n",
       "      <th>start station latitude</th>\n",
       "      <th>start station longitude</th>\n",
       "      <th>end station id</th>\n",
       "      <th>end station name</th>\n",
       "      <th>end station latitude</th>\n",
       "      <th>end station longitude</th>\n",
       "      <th>bikeid</th>\n",
       "      <th>usertype</th>\n",
       "      <th>birth year</th>\n",
       "      <th>gender</th>\n",
       "    </tr>\n",
       "  </thead>\n",
       "  <tbody>\n",
       "    <tr>\n",
       "      <th>1380821</th>\n",
       "      <td>1140</td>\n",
       "      <td>2019-08-19 01:30:43.0240</td>\n",
       "      <td>2019-08-19 01:49:43.7800</td>\n",
       "      <td>3086.0</td>\n",
       "      <td>Graham Ave &amp; Conselyea St</td>\n",
       "      <td>40.715143</td>\n",
       "      <td>-73.944507</td>\n",
       "      <td>3777.0</td>\n",
       "      <td>Stockholm St &amp; Wilson Ave</td>\n",
       "      <td>40.699304</td>\n",
       "      <td>-73.923044</td>\n",
       "      <td>19909</td>\n",
       "      <td>Customer</td>\n",
       "      <td>1997</td>\n",
       "      <td>2</td>\n",
       "    </tr>\n",
       "    <tr>\n",
       "      <th>1116229</th>\n",
       "      <td>1042</td>\n",
       "      <td>2019-08-15 14:21:39.4220</td>\n",
       "      <td>2019-08-15 14:39:02.3210</td>\n",
       "      <td>3557.0</td>\n",
       "      <td>40 Ave &amp; 9 St</td>\n",
       "      <td>40.757420</td>\n",
       "      <td>-73.945133</td>\n",
       "      <td>3602.0</td>\n",
       "      <td>31 Ave &amp; 34 St</td>\n",
       "      <td>40.763154</td>\n",
       "      <td>-73.920827</td>\n",
       "      <td>15062</td>\n",
       "      <td>Subscriber</td>\n",
       "      <td>1985</td>\n",
       "      <td>2</td>\n",
       "    </tr>\n",
       "  </tbody>\n",
       "</table>\n",
       "</div>"
      ],
      "text/plain": [
       "         tripduration                 starttime                  stoptime  \\\n",
       "1380821          1140  2019-08-19 01:30:43.0240  2019-08-19 01:49:43.7800   \n",
       "1116229          1042  2019-08-15 14:21:39.4220  2019-08-15 14:39:02.3210   \n",
       "\n",
       "         start station id         start station name  start station latitude  \\\n",
       "1380821            3086.0  Graham Ave & Conselyea St               40.715143   \n",
       "1116229            3557.0              40 Ave & 9 St               40.757420   \n",
       "\n",
       "         start station longitude  end station id           end station name  \\\n",
       "1380821               -73.944507          3777.0  Stockholm St & Wilson Ave   \n",
       "1116229               -73.945133          3602.0             31 Ave & 34 St   \n",
       "\n",
       "         end station latitude  end station longitude  bikeid    usertype  \\\n",
       "1380821             40.699304             -73.923044   19909    Customer   \n",
       "1116229             40.763154             -73.920827   15062  Subscriber   \n",
       "\n",
       "         birth year  gender  \n",
       "1380821        1997       2  \n",
       "1116229        1985       2  "
      ]
     },
     "execution_count": 3,
     "metadata": {},
     "output_type": "execute_result"
    }
   ],
   "source": [
    "# 1. Create a DataFrame for the 201908-citibike-tripdata data. \n",
    "# read the data file and store it in a Pandas Data Frame\n",
    "citibike_data_df = pd.read_csv(citibike_data_to_load)\n",
    "# test if DataFrame is working by printing part of the DataFrame\n",
    "citibike_data_df.sample(n=2)"
   ]
  },
  {
   "cell_type": "code",
   "execution_count": 4,
   "metadata": {},
   "outputs": [
    {
     "data": {
      "text/plain": [
       "tripduration                 int64\n",
       "starttime                   object\n",
       "stoptime                    object\n",
       "start station id           float64\n",
       "start station name          object\n",
       "start station latitude     float64\n",
       "start station longitude    float64\n",
       "end station id             float64\n",
       "end station name            object\n",
       "end station latitude       float64\n",
       "end station longitude      float64\n",
       "bikeid                       int64\n",
       "usertype                    object\n",
       "birth year                   int64\n",
       "gender                       int64\n",
       "dtype: object"
      ]
     },
     "execution_count": 4,
     "metadata": {},
     "output_type": "execute_result"
    }
   ],
   "source": [
    "# 2. Check the datatypes of your columns. \n",
    "citibike_data_df.dtypes"
   ]
  },
  {
   "cell_type": "code",
   "execution_count": 5,
   "metadata": {},
   "outputs": [],
   "source": [
    "# 3. Convert the 'tripduration' column to datetime datatype.\n",
    "tripduration_datetime = pd.to_datetime(citibike_data_df['tripduration'], unit=\"s\")"
   ]
  },
  {
   "cell_type": "code",
   "execution_count": 6,
   "metadata": {},
   "outputs": [
    {
     "data": {
      "text/html": [
       "<div>\n",
       "<style scoped>\n",
       "    .dataframe tbody tr th:only-of-type {\n",
       "        vertical-align: middle;\n",
       "    }\n",
       "\n",
       "    .dataframe tbody tr th {\n",
       "        vertical-align: top;\n",
       "    }\n",
       "\n",
       "    .dataframe thead th {\n",
       "        text-align: right;\n",
       "    }\n",
       "</style>\n",
       "<table border=\"1\" class=\"dataframe\">\n",
       "  <thead>\n",
       "    <tr style=\"text-align: right;\">\n",
       "      <th></th>\n",
       "      <th>tripduration</th>\n",
       "    </tr>\n",
       "  </thead>\n",
       "  <tbody>\n",
       "    <tr>\n",
       "      <th>0</th>\n",
       "      <td>1970-01-01 00:06:33</td>\n",
       "    </tr>\n",
       "    <tr>\n",
       "      <th>1</th>\n",
       "      <td>1970-01-01 00:10:27</td>\n",
       "    </tr>\n",
       "  </tbody>\n",
       "</table>\n",
       "</div>"
      ],
      "text/plain": [
       "         tripduration\n",
       "0 1970-01-01 00:06:33\n",
       "1 1970-01-01 00:10:27"
      ]
     },
     "execution_count": 6,
     "metadata": {},
     "output_type": "execute_result"
    }
   ],
   "source": [
    "# create new dataframe\n",
    "tripduration_dt = pd.DataFrame(tripduration_datetime)\n",
    "tripduration_dt.head(2)"
   ]
  },
  {
   "cell_type": "code",
   "execution_count": 7,
   "metadata": {},
   "outputs": [
    {
     "data": {
      "text/html": [
       "<div>\n",
       "<style scoped>\n",
       "    .dataframe tbody tr th:only-of-type {\n",
       "        vertical-align: middle;\n",
       "    }\n",
       "\n",
       "    .dataframe tbody tr th {\n",
       "        vertical-align: top;\n",
       "    }\n",
       "\n",
       "    .dataframe thead th {\n",
       "        text-align: right;\n",
       "    }\n",
       "</style>\n",
       "<table border=\"1\" class=\"dataframe\">\n",
       "  <thead>\n",
       "    <tr style=\"text-align: right;\">\n",
       "      <th></th>\n",
       "      <th>tripduration</th>\n",
       "      <th>starttime</th>\n",
       "      <th>stoptime</th>\n",
       "      <th>start station id</th>\n",
       "      <th>start station name</th>\n",
       "      <th>start station latitude</th>\n",
       "      <th>start station longitude</th>\n",
       "      <th>end station id</th>\n",
       "      <th>end station name</th>\n",
       "      <th>end station latitude</th>\n",
       "      <th>end station longitude</th>\n",
       "      <th>bikeid</th>\n",
       "      <th>usertype</th>\n",
       "      <th>birth year</th>\n",
       "      <th>gender</th>\n",
       "    </tr>\n",
       "  </thead>\n",
       "  <tbody>\n",
       "    <tr>\n",
       "      <th>75581</th>\n",
       "      <td>1970-01-01 00:12:07</td>\n",
       "      <td>2019-08-01 20:11:02.2870</td>\n",
       "      <td>2019-08-01 20:23:10.0490</td>\n",
       "      <td>304.0</td>\n",
       "      <td>Broadway &amp; Battery Pl</td>\n",
       "      <td>40.704633</td>\n",
       "      <td>-74.013617</td>\n",
       "      <td>328.0</td>\n",
       "      <td>Watts St &amp; Greenwich St</td>\n",
       "      <td>40.724055</td>\n",
       "      <td>-74.009660</td>\n",
       "      <td>18036</td>\n",
       "      <td>Subscriber</td>\n",
       "      <td>1992</td>\n",
       "      <td>1</td>\n",
       "    </tr>\n",
       "    <tr>\n",
       "      <th>506452</th>\n",
       "      <td>1970-01-01 00:09:24</td>\n",
       "      <td>2019-08-07 11:44:07.8200</td>\n",
       "      <td>2019-08-07 11:53:32.6320</td>\n",
       "      <td>3156.0</td>\n",
       "      <td>E 72 St &amp; York Ave</td>\n",
       "      <td>40.766638</td>\n",
       "      <td>-73.953483</td>\n",
       "      <td>3137.0</td>\n",
       "      <td>5 Ave &amp; E 73 St</td>\n",
       "      <td>40.772828</td>\n",
       "      <td>-73.966853</td>\n",
       "      <td>29402</td>\n",
       "      <td>Subscriber</td>\n",
       "      <td>1969</td>\n",
       "      <td>1</td>\n",
       "    </tr>\n",
       "    <tr>\n",
       "      <th>1577362</th>\n",
       "      <td>1970-01-01 00:31:49</td>\n",
       "      <td>2019-08-21 16:02:46.1110</td>\n",
       "      <td>2019-08-21 16:34:35.7580</td>\n",
       "      <td>3158.0</td>\n",
       "      <td>W 63 St &amp; Broadway</td>\n",
       "      <td>40.771639</td>\n",
       "      <td>-73.982614</td>\n",
       "      <td>3336.0</td>\n",
       "      <td>E 97 St &amp; Madison Ave</td>\n",
       "      <td>40.787801</td>\n",
       "      <td>-73.953559</td>\n",
       "      <td>26538</td>\n",
       "      <td>Customer</td>\n",
       "      <td>1995</td>\n",
       "      <td>2</td>\n",
       "    </tr>\n",
       "  </tbody>\n",
       "</table>\n",
       "</div>"
      ],
      "text/plain": [
       "               tripduration                 starttime  \\\n",
       "75581   1970-01-01 00:12:07  2019-08-01 20:11:02.2870   \n",
       "506452  1970-01-01 00:09:24  2019-08-07 11:44:07.8200   \n",
       "1577362 1970-01-01 00:31:49  2019-08-21 16:02:46.1110   \n",
       "\n",
       "                         stoptime  start station id     start station name  \\\n",
       "75581    2019-08-01 20:23:10.0490             304.0  Broadway & Battery Pl   \n",
       "506452   2019-08-07 11:53:32.6320            3156.0     E 72 St & York Ave   \n",
       "1577362  2019-08-21 16:34:35.7580            3158.0     W 63 St & Broadway   \n",
       "\n",
       "         start station latitude  start station longitude  end station id  \\\n",
       "75581                 40.704633               -74.013617           328.0   \n",
       "506452                40.766638               -73.953483          3137.0   \n",
       "1577362               40.771639               -73.982614          3336.0   \n",
       "\n",
       "                end station name  end station latitude  end station longitude  \\\n",
       "75581    Watts St & Greenwich St             40.724055             -74.009660   \n",
       "506452           5 Ave & E 73 St             40.772828             -73.966853   \n",
       "1577362    E 97 St & Madison Ave             40.787801             -73.953559   \n",
       "\n",
       "         bikeid    usertype  birth year  gender  \n",
       "75581     18036  Subscriber        1992       1  \n",
       "506452    29402  Subscriber        1969       1  \n",
       "1577362   26538    Customer        1995       2  "
      ]
     },
     "execution_count": 7,
     "metadata": {},
     "output_type": "execute_result"
    }
   ],
   "source": [
    "# replace tripduration dataframes\n",
    "citibike_data_df[\"tripduration\"] = tripduration_dt[\"tripduration\"]\n",
    "# Confirm that the converted values in the \"tripduration\" column match\n",
    "citibike_data_df.sample(n=3)"
   ]
  },
  {
   "cell_type": "code",
   "execution_count": 8,
   "metadata": {},
   "outputs": [
    {
     "data": {
      "text/plain": [
       "tripduration               datetime64[ns]\n",
       "starttime                          object\n",
       "stoptime                           object\n",
       "start station id                  float64\n",
       "start station name                 object\n",
       "start station latitude            float64\n",
       "start station longitude           float64\n",
       "end station id                    float64\n",
       "end station name                   object\n",
       "end station latitude              float64\n",
       "end station longitude             float64\n",
       "bikeid                              int64\n",
       "usertype                           object\n",
       "birth year                          int64\n",
       "gender                              int64\n",
       "dtype: object"
      ]
     },
     "execution_count": 8,
     "metadata": {},
     "output_type": "execute_result"
    }
   ],
   "source": [
    "# 4. Check the datatypes of your columns. \n",
    "citibike_data_df.dtypes"
   ]
  },
  {
   "cell_type": "code",
   "execution_count": 9,
   "metadata": {},
   "outputs": [],
   "source": [
    "# 5. Export the Dataframe as a new CSV file without the index.\n",
    "citibike_data_df.to_csv(r'C:\\Users\\Daniel Brock\\OneDrive\\Desktop\\DataAnalyticsBootcamp\\Module14_Tableau_NY_Citibikes\\Tableau_NY_Citibike\\Challenge\\Datasources\\201908-citibike-tripdata-update.csv', header=True, index=False)\n",
    "# citibike_data_df.to_csv(r'C:\\Users\\Daniel Brock\\OneDrive\\Desktop\\DataAnalyticsBootcamp\\Module14_Tableau_NY_Citibikes\\Tableau_NY_Citibike\\Challenge\\Datasources\\201908-citibike-tripdata-update.csv', header=True, index=False, sep=' ')"
   ]
  },
  {
   "cell_type": "code",
   "execution_count": 10,
   "metadata": {},
   "outputs": [],
   "source": [
    "# test feather because its faster\n",
    "feather.write_dataframe(citibike_data_df, '201908-citibike-tripdata.feather')"
   ]
  }
 ],
 "metadata": {
  "kernelspec": {
   "display_name": "PythonData",
   "language": "python",
   "name": "pythondata"
  },
  "language_info": {
   "codemirror_mode": {
    "name": "ipython",
    "version": 3
   },
   "file_extension": ".py",
   "mimetype": "text/x-python",
   "name": "python",
   "nbconvert_exporter": "python",
   "pygments_lexer": "ipython3",
   "version": "3.7.10"
  }
 },
 "nbformat": 4,
 "nbformat_minor": 4
}
